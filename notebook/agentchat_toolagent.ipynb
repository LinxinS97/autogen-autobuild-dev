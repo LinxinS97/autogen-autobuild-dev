{
 "cells": [
  {
   "cell_type": "markdown",
   "metadata": {},
   "source": [
    "# ToolAgent"
   ]
  },
  {
   "cell_type": "markdown",
   "metadata": {},
   "source": [
    "## Preparations\n",
    "1. Download `data.zip` from [Google Drive](https://drive.google.com/drive/folders/1yBUQ732mPu-KclJnuQELEhtKakdXFc3J).\n",
    "2. Move it to `tools/` and unzip it.\n",
    "The folder should be organized as follows:\n",
    "\n",
    "```\n",
    "tools/\n",
    "├── toollib\n",
    "│   ├── Advertising\n",
    "│   ├── Business\n",
    "│   ├── Commerce\n",
    "│   └── ...\n",
    "└── corpus_dedup.tsv\n",
    "```\n"
   ]
  },
  {
   "cell_type": "markdown",
   "metadata": {},
   "source": [
    "## Test how the retriever works\n"
   ]
  },
  {
   "cell_type": "code",
   "execution_count": null,
   "metadata": {},
   "outputs": [],
   "source": [
    "from autogen.agentchat.contrib.tool_retriever import ToolRetriever\n",
    "\n",
    "retrieve = ToolRetriever(model_path=\"ToolBench/ToolBench_IR_bert_based_uncased\")"
   ]
  },
  {
   "cell_type": "markdown",
   "metadata": {},
   "source": [
    "Check some sample corpus from retriever."
   ]
  },
  {
   "cell_type": "code",
   "execution_count": null,
   "metadata": {},
   "outputs": [],
   "source": [
    "retrieve.corpus[:2]"
   ]
  },
  {
   "cell_type": "markdown",
   "metadata": {},
   "source": [
    "Now retrieve tools according to query"
   ]
  },
  {
   "cell_type": "code",
   "execution_count": null,
   "metadata": {},
   "outputs": [],
   "source": [
    "retrieved_tools = retrieve.retrieve(query=\"I need to get youtube video subtitles\", top_k=10)\n",
    "from pprint import pprint\n",
    "\n",
    "pprint(retrieved_tools)"
   ]
  },
  {
   "cell_type": "markdown",
   "metadata": {},
   "source": [
    "## Test ToolAgent"
   ]
  },
  {
   "cell_type": "code",
   "execution_count": null,
   "metadata": {},
   "outputs": [],
   "source": [
    "from autogen.agentchat.contrib.tool_agent import ToolAgent\n",
    "from autogen import UserProxyAgent\n",
    "\n",
    "agent = ToolAgent(\n",
    "    name=\"ToolAgent\",\n",
    "    tool_config={\n",
    "        \"topk\": 10,\n",
    "    },\n",
    "    llm_config={\"config_list\": [{}]},\n",
    "    max_consecutive_auto_reply=5,\n",
    ")\n",
    "\n",
    "proxy = UserProxyAgent(\n",
    "    name=\"proxy\",\n",
    "    max_consecutive_auto_reply=10,\n",
    "    human_input_mode=\"NEVER\",\n",
    "    default_auto_reply=\"Go ahead and continue to solve the problem. If you think task is done or is not solvable, reply TERMINATE\",\n",
    ")\n",
    "\n",
    "import os\n",
    "\n",
    "os.environ[\"TOOLBENCH_KEY\"] = \"YOUR_API_KEY\""
   ]
  },
  {
   "cell_type": "code",
   "execution_count": null,
   "metadata": {},
   "outputs": [],
   "source": [
    "proxy.initiate_chat(\n",
    "    agent,\n",
    "    message=\"In terms of geographical distance between capital cities, which 2 countries are the furthest from each other within the ASEAN bloc according to wikipedia? Answer using a comma separated list, ordering the countries by alphabetical order.\",\n",
    ")"
   ]
  }
 ],
 "metadata": {
  "language_info": {
   "name": "python"
  }
 },
 "nbformat": 4,
 "nbformat_minor": 2
}
