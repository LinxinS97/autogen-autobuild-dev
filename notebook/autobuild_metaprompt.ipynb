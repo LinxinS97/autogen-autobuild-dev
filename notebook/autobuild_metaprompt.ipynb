{
 "cells": [
  {
   "cell_type": "code",
   "execution_count": null,
   "metadata": {},
   "outputs": [],
   "source": [
    "from autogen.agentchat.contrib.meta_prompting_agent import MetaPromptAgent\n",
    "from autogen.agentchat import UserProxyAgent"
   ]
  },
  {
   "cell_type": "markdown",
   "metadata": {},
   "source": [
    "# Define agents"
   ]
  },
  {
   "cell_type": "code",
   "execution_count": null,
   "metadata": {},
   "outputs": [],
   "source": [
    "proxy = UserProxyAgent(\n",
    "    name=\"UserProxy\",\n",
    "    human_input_mode=\"NEVER\",\n",
    "    is_termination_msg=lambda x: \">> FINAL ANSWER\" in x.get(\"content\", \"\"),\n",
    "    default_auto_reply=\"TERMINATE\",\n",
    ")\n",
    "\n",
    "meta = MetaPromptAgent(\n",
    "    name=\"MetaAgent\",\n",
    "    llm_config={\n",
    "        \"config_list\": [\n",
    "            {\"model\": \"gpt-4\", \"api_key\": \"\", \"base_url\": \"\", \"api_type\": \"azure\", \"api_version\": \"2023-12-01-preview\"}\n",
    "        ],\n",
    "        \"temperature\": 0.9,\n",
    "    },\n",
    "    is_termination_msg=lambda x: x.get(\"content\", \"\").strip().endswith(\"TERMINATE\"),\n",
    ")"
   ]
  },
  {
   "cell_type": "code",
   "execution_count": null,
   "metadata": {},
   "outputs": [],
   "source": [
    "proxy.initiate_chat(\n",
    "    meta,\n",
    "    message=\"Let's play a game called 24. You'll be given four integers, and your objective is to use each number only once, combined with any of the four arithmetic operations (addition, subtraction, multiplication, and division) and parentheses, to achieve a total of 24. For example, if the input is 4, 7, 8, and 8, the output could be (7 - (8 / 8)) * 4 = 24.\\n\\n4 5 6 10\",\n",
    ")"
   ]
  },
  {
   "cell_type": "code",
   "execution_count": null,
   "metadata": {},
   "outputs": [],
   "source": []
  }
 ],
 "metadata": {
  "kernelspec": {
   "display_name": "Python 3",
   "language": "python",
   "name": "python3"
  },
  "language_info": {
   "codemirror_mode": {
    "name": "ipython",
    "version": 3
   },
   "file_extension": ".py",
   "mimetype": "text/x-python",
   "name": "python",
   "nbconvert_exporter": "python",
   "pygments_lexer": "ipython3",
   "version": "3.10.13"
  }
 },
 "nbformat": 4,
 "nbformat_minor": 2
}
